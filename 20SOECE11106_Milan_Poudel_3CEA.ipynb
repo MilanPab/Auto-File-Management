{
  "nbformat": 4,
  "nbformat_minor": 0,
  "metadata": {
    "colab": {
      "name": "20SOECE11106/Milan Poudel/3CEA.ipynb",
      "provenance": [],
      "collapsed_sections": []
    },
    "kernelspec": {
      "name": "python3",
      "display_name": "Python 3"
    },
    "language_info": {
      "name": "python"
    }
  },
  "cells": [
    {
      "cell_type": "markdown",
      "metadata": {
        "id": "zmy-wj4NoUIh"
      },
      "source": [
        ""
      ]
    },
    {
      "cell_type": "code",
      "metadata": {
        "id": "Ppy4g-mioVoW"
      },
      "source": [
        "import os\n",
        "import shutil\n",
        "# Enter a path to specificiely save the file\n",
        "src = \"/content\"\n",
        "\n",
        "# list all the files and folder present in given path\n",
        "files = os.listdir(src)\n",
        "\n",
        "for i in files:\n",
        "        name, extension = os.path.splitext(i)\n",
        "\n",
        "        extension = extension[1:]\n",
        "        \n",
        "\n",
        "        if extension == '':\n",
        "            continue\n",
        "        # to check if the folder of having name of extension\n",
        "        if os.path.exists(src+'/'+extension):\n",
        "            shutil.move(src+\"/\"+i, src+'/'+extension+'/'+i)\n",
        "        else:\n",
        "        # to create a seperate folder for new extension\n",
        "            os.makedirs(src+'/'+extension)\n",
        "            shutil.move(src+'/'+i, src+'/'+extension+'/'+i)"
      ],
      "execution_count": null,
      "outputs": []
    }
  ]
}